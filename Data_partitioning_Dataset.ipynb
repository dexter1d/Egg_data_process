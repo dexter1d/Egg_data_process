{
  "nbformat": 4,
  "nbformat_minor": 0,
  "metadata": {
    "colab": {
      "provenance": []
    },
    "kernelspec": {
      "name": "python3",
      "display_name": "Python 3"
    },
    "language_info": {
      "name": "python"
    }
  },
  "cells": [
    {
      "cell_type": "markdown",
      "source": [
        "**Random data partitioning into calibration, validation and test sets**"
      ],
      "metadata": {
        "id": "7X8h64FsD1FY"
      }
    },
    {
      "cell_type": "code",
      "source": [
        "import pandas as pd\n",
        "from sklearn.model_selection import train_test_split\n",
        "\n",
        "# Load the dataset\n",
        "file_path = \"/content/spectra and reference parameters.csv\"  # Update path if needed\n",
        "data = pd.read_csv(file_path)\n",
        "\n",
        "# Remove rows with missing values\n",
        "data_clean = data.dropna()\n",
        "\n",
        "# Separate ID and feature columns\n",
        "ID_clean = data_clean.iloc[:, 0]\n",
        "X_clean = data_clean.drop(columns=data_clean.columns[0])\n",
        "\n",
        "# Define split ratios\n",
        "cal_ratio = 0.7 #####choose % data in calibration set##\n",
        "val_ratio = 0.15  #####choose % data in validation set##\n",
        "test_ratio = 1 - (cal_ratio + val_ratio)\n",
        "\n",
        "# Step 1: Split off Test set\n",
        "X_temp, X_Test, ID_temp, ID_Test = train_test_split(\n",
        "    X_clean, ID_clean, test_size=test_ratio, random_state=42\n",
        ")\n",
        "\n",
        "# Step 2: Split remaining into Cal and Val\n",
        "X_Cal, X_Val, ID_Cal, ID_Val = train_test_split(\n",
        "    X_temp, ID_temp, test_size=val_ratio / (cal_ratio + val_ratio), random_state=42\n",
        ")\n",
        "\n",
        "# Combine ID and features for each set\n",
        "Cal_df = pd.concat([ID_Cal.reset_index(drop=True), X_Cal.reset_index(drop=True)], axis=1)\n",
        "Val_df = pd.concat([ID_Val.reset_index(drop=True), X_Val.reset_index(drop=True)], axis=1)\n",
        "Test_df = pd.concat([ID_Test.reset_index(drop=True), X_Test.reset_index(drop=True)], axis=1)\n",
        "\n",
        "# Save to CSV\n",
        "Cal_df.to_csv(\"/content/Cal_Rand.csv\", index=False)\n",
        "Val_df.to_csv(\"/content/Val_Rand.csv\", index=False)\n",
        "Test_df.to_csv(\"/content/Test_Rand.csv\", index=False)\n",
        "\n",
        "# Print summary\n",
        "print(\"Random Partition Completed:\")\n",
        "print(\"Calibration set (Cal) size:\", Cal_df.shape)\n",
        "print(\"Validation set (Val) size:\", Val_df.shape)\n",
        "print(\"Test set size:\", Test_df.shape)\n"
      ],
      "metadata": {
        "colab": {
          "base_uri": "https://localhost:8080/"
        },
        "id": "gPbWzRvRm7JX",
        "outputId": "f80fd99e-2e24-4db6-c739-22084426fa7a"
      },
      "execution_count": 5,
      "outputs": [
        {
          "output_type": "stream",
          "name": "stdout",
          "text": [
            "Random Partition Completed:\n",
            "Calibration set (Cal) size: (858, 308)\n",
            "Validation set (Val) size: (185, 308)\n",
            "Test set size: (185, 308)\n"
          ]
        }
      ]
    },
    {
      "cell_type": "markdown",
      "source": [
        "**Stratified sampling (for fertility classification)**"
      ],
      "metadata": {
        "id": "tUGVBz0XJje7"
      }
    },
    {
      "cell_type": "markdown",
      "source": [
        "Before running this code prepare the csv file as follows: Remove extra columns (mass, major dia, minor dia, thickness, yolk mass, shell strength) so that your file conatins sample ID (1st column), Fertility status (2nd column), then spectral variables columns.  Then assign fertility status as follows 1 = fertile, 0 = infertile (2nd column)."
      ],
      "metadata": {
        "id": "9a_M-lxVpaZP"
      }
    },
    {
      "cell_type": "code",
      "source": [
        "import pandas as pd\n",
        "import numpy as np\n",
        "from sklearn.model_selection import train_test_split\n",
        "\n",
        "# === Load the dataset === #\n",
        "new_file_path = '/content/Data_all_fertility.csv'  # <<== (Change file path if needed)\n",
        "new_data = pd.read_csv(new_file_path)\n",
        "\n",
        "# Remove rows with missing values\n",
        "new_data_clean = new_data.dropna()\n",
        "\n",
        "# Separate ID, Fertility label, and Features\n",
        "ID_clean = new_data_clean.iloc[:, 0]           # First column = ID\n",
        "fertility_label = new_data_clean.iloc[:, 1]    # Second column = Fertility\n",
        "X_clean = new_data_clean.drop(columns=[new_data_clean.columns[0], new_data_clean.columns[1]])  # Features only\n",
        "\n",
        "# === Set Split Ratios === #\n",
        "cal_ratio = 0.7\n",
        "val_ratio = 0.15\n",
        "test_ratio = 0.15\n",
        "\n",
        "# === First Split: Cal vs Temp (Val + Test) === #\n",
        "X_Cal, X_temp, fertility_Cal, fertility_temp, ID_Cal, ID_temp = train_test_split(\n",
        "    X_clean, fertility_label, ID_clean,\n",
        "    test_size=1 - cal_ratio,   # 30% goes to temp\n",
        "    stratify=fertility_label,\n",
        "    random_state=42\n",
        ")\n",
        "\n",
        "# === Second Split: Temp into Val and Test === #\n",
        "val_ratio_adjusted = val_ratio / (val_ratio + test_ratio)  # 0.5\n",
        "\n",
        "X_Val, X_Test, fertility_Val, fertility_Test, ID_Val, ID_Test = train_test_split(\n",
        "    X_temp, fertility_temp, ID_temp,\n",
        "    test_size=1 - val_ratio_adjusted,  # 0.5 of temp becomes test\n",
        "    stratify=fertility_temp,\n",
        "    random_state=42\n",
        ")\n",
        "\n",
        "# === Save datasets === #\n",
        "for split_name, (ID_split, Fertility_split, X_split) in {\n",
        "    'Cal_Stratified': (ID_Cal, fertility_Cal, X_Cal),\n",
        "    'Val_Stratified': (ID_Val, fertility_Val, X_Val),\n",
        "    'Test_Stratified': (ID_Test, fertility_Test, X_Test)\n",
        "}.items():\n",
        "    df_split = pd.concat([\n",
        "        ID_split.reset_index(drop=True),\n",
        "        Fertility_split.reset_index(drop=True),\n",
        "        X_split.reset_index(drop=True)\n",
        "    ], axis=1)\n",
        "    df_split.to_csv(f'/content/{split_name}.csv', index=False)\n",
        "\n",
        "# === Print split summary === #\n",
        "print(\"Stratified Split Sizes:\")\n",
        "print(f\"Cal: {X_Cal.shape}, Val: {X_Val.shape}, Test: {X_Test.shape}\")\n"
      ],
      "metadata": {
        "colab": {
          "base_uri": "https://localhost:8080/"
        },
        "id": "NX54HP0MtlFQ",
        "outputId": "517201de-8cf5-4e84-fb4c-db0eaca8f385"
      },
      "execution_count": 6,
      "outputs": [
        {
          "output_type": "stream",
          "name": "stdout",
          "text": [
            "Stratified Split Sizes:\n",
            "Cal: (859, 300), Val: (184, 300), Test: (185, 300)\n"
          ]
        }
      ]
    }
  ]
}